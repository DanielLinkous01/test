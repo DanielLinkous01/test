{
 "cells": [
  {
   "cell_type": "markdown",
   "id": "deeb249b-fb5d-4baf-a8b7-720bf7b07b4a",
   "metadata": {},
   "source": [
    "# Data Science Tools and Ecosystem"
   ]
  },
  {
   "cell_type": "markdown",
   "id": "40baba98-60d4-4a68-b48c-4e7a990a2eed",
   "metadata": {},
   "source": [
    "**In this notebook, Data Science Tools and Ecosystem are summarized.**"
   ]
  },
  {
   "cell_type": "markdown",
   "id": "82f705f8-32ab-4377-a18e-1f3947ff0b81",
   "metadata": {},
   "source": [
    "**Objectives:**\r\n",
    "\r\n",
    "- List popular languages for Data Science  \r\n",
    "- Identify commonly used libraries in Data Science  \r\n",
    "- Create and format Markdown cells in JupyterLite  \r\n",
    "- Perform basic arithmetic operations using Python code cells  \r\n",
    "- Convert units (e.g., minutes to hours) using Python expressions\r\n"
   ]
  },
  {
   "cell_type": "markdown",
   "id": "3c09940c-b06b-4d0f-9018-0175c5a87824",
   "metadata": {},
   "source": [
    "**Some of the popular languages that Data Scientists use are:**\n",
    "\n",
    "1.  Python\n",
    "2.  R\n",
    "3.  SQL"
   ]
  },
  {
   "cell_type": "markdown",
   "id": "6cff8b70-43b7-4447-9027-63f11ca8e89f",
   "metadata": {},
   "source": [
    "**Some of the commonly used libraries used by Data Scientists include:**\r\n",
    "\r\n",
    "1. NumPy  \r\n",
    "2. Pandas  \r\n",
    "3. Matplotlib  \r\n",
    "4. Scikit-learn  \r\n",
    "5. TensorFlow\r\n"
   ]
  },
  {
   "cell_type": "code",
   "execution_count": null,
   "id": "0208131d-7f44-4c96-983f-53bc89c20c0d",
   "metadata": {},
   "outputs": [],
   "source": [
    "**Data Science Tools**\n",
    "\n",
    "| Data Science Tools         |\n",
    "|----------------------------|\n",
    "| Jupyter Notebook           |\n",
    "| RStudio                    |\n",
    "| Visual Studio Code (VS Code) |\n"
   ]
  },
  {
   "cell_type": "code",
   "execution_count": 5,
   "id": "80354997-42a9-49bb-ad94-1a19968d405f",
   "metadata": {},
   "outputs": [
    {
     "data": {
      "text/plain": [
       "17"
      ]
     },
     "execution_count": 5,
     "metadata": {},
     "output_type": "execute_result"
    }
   ],
   "source": [
    "# This a simple arithmetic expression to mutiply then add integers\n",
    "\n",
    "(3*4)+5"
   ]
  },
  {
   "cell_type": "code",
   "execution_count": 6,
   "id": "53702f46-25bd-4e51-b3f3-955733b02556",
   "metadata": {},
   "outputs": [
    {
     "data": {
      "text/plain": [
       "3.3333333333333335"
      ]
     },
     "execution_count": 6,
     "metadata": {},
     "output_type": "execute_result"
    }
   ],
   "source": [
    "# This will convert 200 minutes to hours by diving by 60\n",
    "\n",
    "200 / 60\n"
   ]
  },
  {
   "cell_type": "markdown",
   "id": "984052f8-96b2-4450-b234-8f8e18e20132",
   "metadata": {},
   "source": [
    "## Author:  \n",
    "Daniel Linkous"
   ]
  },
  {
   "cell_type": "code",
   "execution_count": null,
   "id": "0017e00e-122a-4393-88df-771ace934f70",
   "metadata": {},
   "outputs": [],
   "source": []
  }
 ],
 "metadata": {
  "kernelspec": {
   "display_name": "anaconda-2024.02-py310",
   "language": "python",
   "name": "conda-env-anaconda-2024.02-py310-py"
  },
  "language_info": {
   "codemirror_mode": {
    "name": "ipython",
    "version": 3
   },
   "file_extension": ".py",
   "mimetype": "text/x-python",
   "name": "python",
   "nbconvert_exporter": "python",
   "pygments_lexer": "ipython3",
   "version": "3.10.14"
  }
 },
 "nbformat": 4,
 "nbformat_minor": 5
}
